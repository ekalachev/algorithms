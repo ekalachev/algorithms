{
 "cells": [
  {
   "cell_type": "markdown",
   "id": "c098b825",
   "metadata": {},
   "source": [
    "# Linked List"
   ]
  },
  {
   "cell_type": "code",
   "execution_count": 1,
   "id": "75538cbd",
   "metadata": {},
   "outputs": [],
   "source": [
    "from typing import List\n",
    "import numpy as np"
   ]
  },
  {
   "cell_type": "code",
   "execution_count": 2,
   "id": "3fb0d837",
   "metadata": {},
   "outputs": [],
   "source": [
    "# Definition for singly-linked list.\n",
    "class ListNode:\n",
    "    def __init__(self, val=0, next=None):\n",
    "        self.val = val\n",
    "        self.next = next"
   ]
  },
  {
   "cell_type": "markdown",
   "id": "08592304",
   "metadata": {},
   "source": [
    "## Delete Node in a Linked List\n",
    "\n",
    "Write a function to delete a node in a singly-linked list. You will not be given access to the head of the list, instead you will be given access to the node to be deleted directly.\n",
    "\n",
    "It is guaranteed that the node to be deleted is not a tail node in the list.\n",
    "\n",
    "#### Examples:\n",
    "\n",
    "![linked_list](./img/linked_list1.jpg)\n",
    "\n",
    "```\n",
    "Input: head = [4,5,1,9], node = 5\n",
    "Output: [4,1,9]\n",
    "Explanation: You are given the second node with value 5, the linked list should become 4 -> 1 -> 9 after calling your function.\n",
    "```\n",
    "\n",
    "![linked_list](./img/linked_list2.jpg)\n",
    "\n",
    "```\n",
    "Input: head = [4,5,1,9], node = 1\n",
    "Output: [4,5,9]\n",
    "Explanation: You are given the third node with value 1, the linked list should become 4 -> 5 -> 9 after calling your function.\n",
    "```\n",
    "\n",
    "```\n",
    "Input: head = [1,2,3,4], node = 3\n",
    "Output: [1,2,4]\n",
    "```\n",
    "\n",
    "```\n",
    "Input: head = [0,1], node = 0\n",
    "Output: [1]\n",
    "```\n",
    "\n",
    "```\n",
    "Input: head = [-3,5,-99], node = -3\n",
    "Output: [5,-99]\n",
    "```\n",
    "\n",
    "#### Constraints:\n",
    "\n",
    "- The number of the nodes in the given list is in the range [2, 1000].\n",
    "- -1000 <= Node.val <= 1000\n",
    "- The value of each node in the list is unique.\n",
    "- The node to be deleted is in the list and is not a tail node"
   ]
  },
  {
   "cell_type": "code",
   "execution_count": 3,
   "id": "dace36ad",
   "metadata": {},
   "outputs": [],
   "source": [
    "def deleteNode(node: ListNode) -> None:\n",
    "    node.val = node.next.val\n",
    "    node.next = node.next.next"
   ]
  },
  {
   "cell_type": "code",
   "execution_count": 4,
   "id": "a7f79b99",
   "metadata": {},
   "outputs": [],
   "source": [
    "node = ListNode(4)\n",
    "node.next = ListNode(5)\n",
    "node.next.next = ListNode(1)\n",
    "node.next.next.next = ListNode(9)\n",
    "\n",
    "r_node = node.next\n",
    "\n",
    "deleteNode(r_node)\n",
    "\n",
    "assert r_node.val == node.next.val"
   ]
  },
  {
   "cell_type": "markdown",
   "id": "68e3cc23",
   "metadata": {},
   "source": [
    "## Remove Nth Node From End of List\n",
    "\n",
    "Given the head of a linked list, remove the $n^{th}$ node from the end of the list and return its head.\n",
    "\n",
    "#### Follow up:\n",
    "Could you do this in one pass?\n",
    "\n",
    "```\n",
    "Input: head = [1,2,3,4,5], n = 2\n",
    "Output: [1,2,3,5]\n",
    "```\n",
    "\n",
    "```\n",
    "Input: head = [1], n = 1\n",
    "Output: []\n",
    "```\n",
    "\n",
    "```\n",
    "Input: head = [1,2], n = 1\n",
    "Output: [1]\n",
    "```\n",
    "\n",
    "#### Constraints:\n",
    "\n",
    "- The number of nodes in the list is sz.\n",
    "- 1 <= sz <= 30\n",
    "- 0 <= Node.val <= 100\n",
    "- 1 <= n <= sz"
   ]
  },
  {
   "cell_type": "code",
   "execution_count": 5,
   "id": "b4d6f169",
   "metadata": {},
   "outputs": [],
   "source": [
    "def removeNthFromEnd(head: ListNode, n: int) -> ListNode:\n",
    "    dummy = ListNode(0)\n",
    "    dummy.next = head\n",
    "    \n",
    "    first = dummy\n",
    "    second = dummy\n",
    "    \n",
    "    for i in range(1, n + 2):\n",
    "        first = first.next\n",
    "    \n",
    "    while first is not None:\n",
    "        first = first.next\n",
    "        second = second.next\n",
    "    \n",
    "    second.next = second.next.next\n",
    "    \n",
    "    return dummy.next"
   ]
  },
  {
   "cell_type": "code",
   "execution_count": 6,
   "id": "21d56b83",
   "metadata": {},
   "outputs": [],
   "source": [
    "node = ListNode(4)\n",
    "node.next = ListNode(5)\n",
    "node.next.next = ListNode(1)\n",
    "node.next.next.next = ListNode(9)\n",
    "\n",
    "removeNthFromEnd(node, 2)\n",
    "\n",
    "assert node.next.next.val == 9"
   ]
  },
  {
   "cell_type": "markdown",
   "id": "25f14817",
   "metadata": {},
   "source": [
    "## Reverse Linked List\n",
    "\n",
    "Given the head of a singly linked list, reverse the list, and return the reversed list.\n",
    "\n",
    "#### Examples:\n",
    "\n",
    "```\n",
    "Input: head = [1,2,3,4,5]\n",
    "Output: [5,4,3,2,1]\n",
    "```\n",
    "\n",
    "```\n",
    "Input: head = [1,2]\n",
    "Output: [2,1]\n",
    "```\n",
    "\n",
    "```\n",
    "Input: head = []\n",
    "Output: []\n",
    "```\n",
    "\n",
    "#### Constraints:\n",
    "\n",
    "- The number of nodes in the list is the range [0, 5000].\n",
    "- -5000 <= Node.val <= 5000\n",
    " \n",
    "\n",
    "#### Follow up: \n",
    "\n",
    "A linked list can be reversed either iteratively or recursively. Could you implement both?"
   ]
  },
  {
   "cell_type": "code",
   "execution_count": 7,
   "id": "ef0503ed",
   "metadata": {},
   "outputs": [],
   "source": [
    "def reverseList(head: ListNode) -> ListNode:\n",
    "    prev = None\n",
    "    curr = head\n",
    "    \n",
    "    while curr:\n",
    "        curr.next, prev, curr = prev, curr, curr.next\n",
    "        \n",
    "    return prev"
   ]
  },
  {
   "cell_type": "code",
   "execution_count": 8,
   "id": "07bde046",
   "metadata": {},
   "outputs": [],
   "source": [
    "node = ListNode(1, ListNode(2, ListNode(3, ListNode(4, ListNode(5)))))\n",
    "\n",
    "node = reverseList(node)\n",
    "\n",
    "i = 5\n",
    "while node:\n",
    "    assert i == node.val\n",
    "    node = node.next\n",
    "    i -= 1"
   ]
  },
  {
   "cell_type": "code",
   "execution_count": null,
   "id": "b6344154",
   "metadata": {},
   "outputs": [],
   "source": []
  }
 ],
 "metadata": {
  "kernelspec": {
   "display_name": "Python 3",
   "language": "python",
   "name": "python3"
  },
  "language_info": {
   "codemirror_mode": {
    "name": "ipython",
    "version": 3
   },
   "file_extension": ".py",
   "mimetype": "text/x-python",
   "name": "python",
   "nbconvert_exporter": "python",
   "pygments_lexer": "ipython3",
   "version": "3.8.5"
  }
 },
 "nbformat": 4,
 "nbformat_minor": 5
}
