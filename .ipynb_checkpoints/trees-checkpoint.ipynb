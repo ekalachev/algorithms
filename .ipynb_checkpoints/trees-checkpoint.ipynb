{
 "cells": [
  {
   "cell_type": "markdown",
   "id": "bf2eeb4b",
   "metadata": {},
   "source": [
    "# Trees"
   ]
  },
  {
   "cell_type": "code",
   "execution_count": 1,
   "id": "826baf33",
   "metadata": {},
   "outputs": [],
   "source": [
    "class TreeNode:\n",
    "    def __init__(self, val=0, left=None, right=None):\n",
    "        self.val = val\n",
    "        self.left = left\n",
    "        self.right = right"
   ]
  },
  {
   "cell_type": "markdown",
   "id": "79c5fdb4",
   "metadata": {},
   "source": [
    "## Maximum Depth of Binary Tree\n",
    "\n",
    "Given the root of a binary tree, return its maximum depth.\n",
    "\n",
    "A binary tree's maximum depth is the number of nodes along the longest path from the root node down to the farthest leaf node.\n",
    "\n",
    "\n",
    "#### Examples:\n",
    "\n",
    "![tree](./img/tree.jpg)\n",
    "\n",
    "```\n",
    "Input: root = [3, 9, 20, null, null, 15, 7]\n",
    "Output: 3\n",
    "```\n",
    "\n",
    "```\n",
    "Input: root = [1, null, 2]\n",
    "Output: 2\n",
    "```\n",
    "\n",
    "```\n",
    "Input: root = []\n",
    "Output: 0\n",
    "```\n",
    "\n",
    "```\n",
    "Input: root = [0]\n",
    "Output: 1\n",
    "```\n",
    "\n",
    "#### Constraints:\n",
    "\n",
    "- The number of nodes in the tree is in the range $[0, 10^{4}]$.\n",
    "- -100 <= Node.val <= 100\n",
    "\n",
    "### My solution:\n",
    "\n",
    "*Time complexity:* we visit each node exactly once, thus the time complexity is `O(N)`, where N is the number of nodes.\n",
    "\n",
    "*Space complexity:* in the worst case, the tree is completely unbalanced, e.g. each node has only left child node, the recursion call would occur N times (the height of the tree), therefore the storage to keep the call stack would be `O(N)`. But in the best case (the tree is completely balanced), the height of the tree would be `log(N)`. Therefore, the space complexity in this case would be `O(log(N))`."
   ]
  },
  {
   "cell_type": "code",
   "execution_count": 2,
   "id": "f3602094",
   "metadata": {},
   "outputs": [],
   "source": [
    "def maxDepth(root: TreeNode) -> int:\n",
    "    if not root:\n",
    "        return 0\n",
    "    \n",
    "    return max(1 + maxDepth(root.left), 1 + maxDepth(root.right))"
   ]
  },
  {
   "cell_type": "markdown",
   "id": "b14e2bd5",
   "metadata": {},
   "source": [
    "#### Tests:"
   ]
  },
  {
   "cell_type": "code",
   "execution_count": 3,
   "id": "3787ffdf",
   "metadata": {},
   "outputs": [],
   "source": [
    "root = TreeNode(3, TreeNode(9), TreeNode(20, TreeNode(15), TreeNode(7)))\n",
    "assert maxDepth(root) == 3"
   ]
  },
  {
   "cell_type": "code",
   "execution_count": 4,
   "id": "7458c633",
   "metadata": {},
   "outputs": [],
   "source": [
    "root = TreeNode(3, TreeNode(9), TreeNode(20, TreeNode(15), TreeNode(7, TreeNode(12))))\n",
    "assert maxDepth(root) == 4"
   ]
  },
  {
   "cell_type": "markdown",
   "id": "2c0bdf4d",
   "metadata": {},
   "source": [
    "## Validate Binary Search Tree\n",
    "\n",
    "Given the root of a binary tree, determine if it is a valid binary search tree (BST).\n",
    "\n",
    "A *valid BST* is defined as follows:\n",
    "\n",
    "- The left subtree of a node contains only nodes with keys *less than* the node's key.\n",
    "- The right subtree of a node contains only nodes with keys *greater than* the node's key.\n",
    "- Both the left and right subtrees must also be binary search trees.\n",
    "\n",
    "#### Examples:\n",
    "![tree](./img/tree1.jpg)\n",
    "\n",
    "```\n",
    "Input: root = [2, 1, 3]\n",
    "Output: true\n",
    "```\n",
    "\n",
    "![tree](./img/tree2.jpg)\n",
    "```\n",
    "Input: root = [5, 1, 4, null, null, 3, 6]\n",
    "Output: false\n",
    "Explanation: The root node's value is 5 but its right child's value is 4.\n",
    "```\n",
    "\n",
    "#### Constraints:\n",
    "\n",
    "- The number of nodes in the tree is in the range $[1, 10^{4}]$.\n",
    "- $-2^{31} <= Node.val <= 2^{31} - 1$"
   ]
  },
  {
   "cell_type": "code",
   "execution_count": 5,
   "id": "5b192d18",
   "metadata": {},
   "outputs": [],
   "source": [
    "def isValidBST(root: TreeNode) -> bool:\n",
    "    stack = []\n",
    "    prev = None\n",
    "\n",
    "    while len(stack) != 0 or root:\n",
    "        while root:\n",
    "            stack.append(root)\n",
    "            root = root.left\n",
    "\n",
    "        root = stack.pop()\n",
    "\n",
    "        if prev and root.val <= prev.val:\n",
    "            return False\n",
    "\n",
    "        prev, root = root, root.right\n",
    "\n",
    "    return True"
   ]
  },
  {
   "cell_type": "code",
   "execution_count": 6,
   "id": "4bf1a7a1",
   "metadata": {},
   "outputs": [],
   "source": [
    "root = TreeNode(5, TreeNode(1), TreeNode(4, TreeNode(3), TreeNode(9)))\n",
    "assert isValidBST(root) == False"
   ]
  },
  {
   "cell_type": "code",
   "execution_count": 7,
   "id": "37b4733d",
   "metadata": {},
   "outputs": [],
   "source": [
    "root = TreeNode(5, TreeNode(1), TreeNode(7, TreeNode(6), TreeNode(8)))\n",
    "assert isValidBST(root)"
   ]
  },
  {
   "cell_type": "code",
   "execution_count": 8,
   "id": "9954e370",
   "metadata": {},
   "outputs": [],
   "source": [
    "def isValidBST(root: TreeNode) -> bool:\n",
    "    def helper(node: TreeNode, left_val: int, right_val: int):\n",
    "        if not node:\n",
    "            return True\n",
    "        if node.val <= left_val or node.val >= right_val:\n",
    "            return False\n",
    "        \n",
    "        return helper(node.left, left_val, node.val) and helper(node.right, node.val, right_val)\n",
    "    \n",
    "    return helper(root, float(\"-inf\"), float(\"inf\"))"
   ]
  },
  {
   "cell_type": "code",
   "execution_count": 9,
   "id": "f12744ec",
   "metadata": {},
   "outputs": [],
   "source": [
    "root = TreeNode(5, TreeNode(1), TreeNode(4, TreeNode(3), TreeNode(9)))\n",
    "assert isValidBST(root) == False"
   ]
  },
  {
   "cell_type": "code",
   "execution_count": 10,
   "id": "97584a9c",
   "metadata": {},
   "outputs": [],
   "source": [
    "root = TreeNode(5, TreeNode(1), TreeNode(7, TreeNode(6), TreeNode(8)))\n",
    "assert isValidBST(root)"
   ]
  },
  {
   "cell_type": "code",
   "execution_count": null,
   "id": "d129ffb6",
   "metadata": {},
   "outputs": [],
   "source": []
  }
 ],
 "metadata": {
  "kernelspec": {
   "display_name": "Python 3",
   "language": "python",
   "name": "python3"
  },
  "language_info": {
   "codemirror_mode": {
    "name": "ipython",
    "version": 3
   },
   "file_extension": ".py",
   "mimetype": "text/x-python",
   "name": "python",
   "nbconvert_exporter": "python",
   "pygments_lexer": "ipython3",
   "version": "3.8.5"
  }
 },
 "nbformat": 4,
 "nbformat_minor": 5
}
