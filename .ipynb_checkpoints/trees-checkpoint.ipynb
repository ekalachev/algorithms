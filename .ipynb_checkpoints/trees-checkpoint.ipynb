{
 "cells": [
  {
   "cell_type": "markdown",
   "id": "4751c54a",
   "metadata": {},
   "source": [
    "# Trees"
   ]
  },
  {
   "cell_type": "code",
   "execution_count": 1,
   "id": "0350890e",
   "metadata": {},
   "outputs": [],
   "source": [
    "class TreeNode:\n",
    "    def __init__(self, val=0, left=None, right=None):\n",
    "        self.val = val\n",
    "        self.left = left\n",
    "        self.right = right"
   ]
  },
  {
   "cell_type": "markdown",
   "id": "7655d7ce",
   "metadata": {},
   "source": [
    "## Maximum Depth of Binary Tree\n",
    "\n",
    "Given the root of a binary tree, return its maximum depth.\n",
    "\n",
    "A binary tree's maximum depth is the number of nodes along the longest path from the root node down to the farthest leaf node.\n",
    "\n",
    "\n",
    "#### Examples:\n",
    "\n",
    "![tree](./img/tree.jpg)\n",
    "\n",
    "```\n",
    "Input: root = [3, 9, 20, null, null, 15, 7]\n",
    "Output: 3\n",
    "```\n",
    "\n",
    "```\n",
    "Input: root = [1, null, 2]\n",
    "Output: 2\n",
    "```\n",
    "\n",
    "```\n",
    "Input: root = []\n",
    "Output: 0\n",
    "```\n",
    "\n",
    "```\n",
    "Input: root = [0]\n",
    "Output: 1\n",
    "```\n",
    "\n",
    "#### Constraints:\n",
    "\n",
    "- The number of nodes in the tree is in the range $[0, 10^{4}]$.\n",
    "- -100 <= Node.val <= 100\n",
    "\n",
    "### My solution:\n",
    "\n",
    "*Time complexity:* we visit each node exactly once, thus the time complexity is `O(N)`, where N is the number of nodes.\n",
    "\n",
    "*Space complexity:* in the worst case, the tree is completely unbalanced, e.g. each node has only left child node, the recursion call would occur N times (the height of the tree), therefore the storage to keep the call stack would be `O(N)`. But in the best case (the tree is completely balanced), the height of the tree would be `log(N)`. Therefore, the space complexity in this case would be `O(log(N))`."
   ]
  },
  {
   "cell_type": "code",
   "execution_count": 2,
   "id": "14a09322",
   "metadata": {},
   "outputs": [],
   "source": [
    "def maxDepth(root: TreeNode) -> int:\n",
    "    if not root:\n",
    "        return 0\n",
    "    \n",
    "    return max(1 + maxDepth(root.left), 1 + maxDepth(root.right))"
   ]
  },
  {
   "cell_type": "code",
   "execution_count": 3,
   "id": "416691c2",
   "metadata": {},
   "outputs": [],
   "source": [
    "root = TreeNode(3, TreeNode(9), TreeNode(20, TreeNode(15), TreeNode(7)))\n",
    "\n",
    "assert maxDepth(root) == 3"
   ]
  },
  {
   "cell_type": "code",
   "execution_count": 4,
   "id": "2d2d4fa3",
   "metadata": {},
   "outputs": [],
   "source": [
    "root = TreeNode(3, TreeNode(9), TreeNode(20, TreeNode(15), TreeNode(7, TreeNode(12))))\n",
    "\n",
    "assert maxDepth(root) == 4"
   ]
  },
  {
   "cell_type": "code",
   "execution_count": null,
   "id": "927462ad",
   "metadata": {},
   "outputs": [],
   "source": []
  }
 ],
 "metadata": {
  "kernelspec": {
   "display_name": "Python 3",
   "language": "python",
   "name": "python3"
  },
  "language_info": {
   "codemirror_mode": {
    "name": "ipython",
    "version": 3
   },
   "file_extension": ".py",
   "mimetype": "text/x-python",
   "name": "python",
   "nbconvert_exporter": "python",
   "pygments_lexer": "ipython3",
   "version": "3.8.5"
  }
 },
 "nbformat": 4,
 "nbformat_minor": 5
}
