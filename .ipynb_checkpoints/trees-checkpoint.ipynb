{
 "cells": [
  {
   "cell_type": "markdown",
   "id": "bf2eeb4b",
   "metadata": {},
   "source": [
    "# Trees"
   ]
  },
  {
   "cell_type": "code",
   "execution_count": 1,
   "id": "826baf33",
   "metadata": {},
   "outputs": [],
   "source": [
    "class TreeNode:\n",
    "    def __init__(self, val=0, left=None, right=None):\n",
    "        self.val = val\n",
    "        self.left = left\n",
    "        self.right = right"
   ]
  },
  {
   "cell_type": "markdown",
   "id": "79c5fdb4",
   "metadata": {},
   "source": [
    "## Maximum Depth of Binary Tree\n",
    "\n",
    "Given the root of a binary tree, return its maximum depth.\n",
    "\n",
    "A binary tree's maximum depth is the number of nodes along the longest path from the root node down to the farthest leaf node.\n",
    "\n",
    "\n",
    "#### Examples:\n",
    "\n",
    "![tree](./img/tree.jpg)\n",
    "\n",
    "```\n",
    "Input: root = [3, 9, 20, null, null, 15, 7]\n",
    "Output: 3\n",
    "```\n",
    "\n",
    "```\n",
    "Input: root = [1, null, 2]\n",
    "Output: 2\n",
    "```\n",
    "\n",
    "```\n",
    "Input: root = []\n",
    "Output: 0\n",
    "```\n",
    "\n",
    "```\n",
    "Input: root = [0]\n",
    "Output: 1\n",
    "```\n",
    "\n",
    "#### Constraints:\n",
    "\n",
    "- The number of nodes in the tree is in the range $[0, 10^{4}]$.\n",
    "- -100 <= Node.val <= 100\n",
    "\n",
    "### My solution:\n",
    "\n",
    "*Time complexity:* we visit each node exactly once, thus the time complexity is `O(N)`, where N is the number of nodes.\n",
    "\n",
    "*Space complexity:* in the worst case, the tree is completely unbalanced, e.g. each node has only left child node, the recursion call would occur N times (the height of the tree), therefore the storage to keep the call stack would be `O(N)`. But in the best case (the tree is completely balanced), the height of the tree would be `log(N)`. Therefore, the space complexity in this case would be `O(log(N))`."
   ]
  },
  {
   "cell_type": "code",
   "execution_count": 2,
   "id": "f3602094",
   "metadata": {},
   "outputs": [],
   "source": [
    "def maxDepth(root: TreeNode) -> int:\n",
    "    if not root:\n",
    "        return 0\n",
    "    \n",
    "    return max(1 + maxDepth(root.left), 1 + maxDepth(root.right))"
   ]
  },
  {
   "cell_type": "markdown",
   "id": "b14e2bd5",
   "metadata": {},
   "source": [
    "#### Tests:"
   ]
  },
  {
   "cell_type": "code",
   "execution_count": 3,
   "id": "3787ffdf",
   "metadata": {},
   "outputs": [],
   "source": [
    "root = TreeNode(3, TreeNode(9), TreeNode(20, TreeNode(15), TreeNode(7)))\n",
    "assert maxDepth(root) == 3"
   ]
  },
  {
   "cell_type": "code",
   "execution_count": 4,
   "id": "7458c633",
   "metadata": {},
   "outputs": [],
   "source": [
    "root = TreeNode(3, TreeNode(9), TreeNode(20, TreeNode(15), TreeNode(7, TreeNode(12))))\n",
    "assert maxDepth(root) == 4"
   ]
  },
  {
   "cell_type": "markdown",
   "id": "2c0bdf4d",
   "metadata": {},
   "source": [
    "## Validate Binary Search Tree\n",
    "\n",
    "Given the root of a binary tree, determine if it is a valid binary search tree (BST).\n",
    "\n",
    "A *valid BST* is defined as follows:\n",
    "\n",
    "- The left subtree of a node contains only nodes with keys *less than* the node's key.\n",
    "- The right subtree of a node contains only nodes with keys *greater than* the node's key.\n",
    "- Both the left and right subtrees must also be binary search trees.\n",
    "\n",
    "#### Examples:\n",
    "![tree](./img/tree1.jpg)\n",
    "\n",
    "```\n",
    "Input: root = [2, 1, 3]\n",
    "Output: true\n",
    "```\n",
    "\n",
    "![tree](./img/tree2.jpg)\n",
    "```\n",
    "Input: root = [5, 1, 4, null, null, 3, 6]\n",
    "Output: false\n",
    "Explanation: The root node's value is 5 but its right child's value is 4.\n",
    "```\n",
    "\n",
    "#### Constraints:\n",
    "\n",
    "- The number of nodes in the tree is in the range $[1, 10^{4}]$.\n",
    "- $-2^{31} <= Node.val <= 2^{31} - 1$"
   ]
  },
  {
   "cell_type": "code",
   "execution_count": 5,
   "id": "5b192d18",
   "metadata": {},
   "outputs": [],
   "source": [
    "def isValidBST(root: TreeNode) -> bool:\n",
    "    stack = []\n",
    "    prev = None\n",
    "\n",
    "    while len(stack) != 0 or root:\n",
    "        while root:\n",
    "            stack.append(root)\n",
    "            root = root.left\n",
    "\n",
    "        root = stack.pop()\n",
    "\n",
    "        if prev and root.val <= prev.val:\n",
    "            return False\n",
    "\n",
    "        prev, root = root, root.right\n",
    "\n",
    "    return True"
   ]
  },
  {
   "cell_type": "code",
   "execution_count": 6,
   "id": "4bf1a7a1",
   "metadata": {},
   "outputs": [],
   "source": [
    "root = TreeNode(5, TreeNode(1), TreeNode(4, TreeNode(3), TreeNode(9)))\n",
    "assert isValidBST(root) == False"
   ]
  },
  {
   "cell_type": "code",
   "execution_count": 7,
   "id": "208647a2",
   "metadata": {},
   "outputs": [],
   "source": [
    "root = TreeNode(5, TreeNode(1), TreeNode(7, TreeNode(6), TreeNode(8)))\n",
    "assert isValidBST(root)"
   ]
  },
  {
   "cell_type": "code",
   "execution_count": 8,
   "id": "5c5e427e",
   "metadata": {},
   "outputs": [],
   "source": [
    "def isValidBST(root: TreeNode) -> bool:\n",
    "    def helper(node: TreeNode, left_val: int, right_val: int):\n",
    "        if not node:\n",
    "            return True\n",
    "        if node.val <= left_val or node.val >= right_val:\n",
    "            return False\n",
    "        \n",
    "        return helper(node.left, left_val, node.val) and helper(node.right, node.val, right_val)\n",
    "    \n",
    "    return helper(root, float(\"-inf\"), float(\"inf\"))"
   ]
  },
  {
   "cell_type": "code",
   "execution_count": 9,
   "id": "9f0c6f33",
   "metadata": {},
   "outputs": [],
   "source": [
    "root = TreeNode(5, TreeNode(1), TreeNode(4, TreeNode(3), TreeNode(9)))\n",
    "assert isValidBST(root) == False"
   ]
  },
  {
   "cell_type": "code",
   "execution_count": 10,
   "id": "a9fe363a",
   "metadata": {},
   "outputs": [],
   "source": [
    "root = TreeNode(5, TreeNode(1), TreeNode(7, TreeNode(6), TreeNode(8)))\n",
    "assert isValidBST(root)"
   ]
  },
  {
   "cell_type": "markdown",
   "id": "cc09ed2a",
   "metadata": {},
   "source": [
    "## Symmetric Tree\n",
    "\n",
    "Given the root of a binary tree, check whether it is a mirror of itself (i.e., symmetric around its center).\n",
    "\n",
    "#### Examples:\n",
    "\n",
    "![tree](./img/symtree1.jpg)\n",
    "\n",
    "```\n",
    "Input: root = [1,2,2,3,4,4,3]\n",
    "Output: true\n",
    "```\n",
    "\n",
    "```\n",
    "Input: root = [1,2,2,null,3,null,3]\n",
    "Output: false\n",
    "```\n",
    "\n",
    "#### Constraints:\n",
    "\n",
    "- The number of nodes in the tree is in the range [1, 1000].\n",
    "- -100 <= Node.val <= 100\n",
    " \n",
    "\n",
    "#### Follow up:\n",
    "Could you solve it both recursively and iteratively?"
   ]
  },
  {
   "cell_type": "markdown",
   "id": "a76f67fc",
   "metadata": {},
   "source": [
    "#### Recursively approach:"
   ]
  },
  {
   "cell_type": "code",
   "execution_count": 11,
   "id": "fa7743ea",
   "metadata": {},
   "outputs": [],
   "source": [
    "def is_mirror(t1: TreeNode, t2: TreeNode):\n",
    "    if not t1 and not t2:\n",
    "        return True\n",
    "    if not t1 or not t2:\n",
    "        return False\n",
    "\n",
    "    return t1.val == t2.val and is_mirror(t1.right, t2.left) and is_mirror(t1.left, t2.right)\n",
    "\n",
    "\n",
    "def is_symmetric(root: TreeNode) -> bool:\n",
    "    return is_mirror(root, root)"
   ]
  },
  {
   "cell_type": "code",
   "execution_count": 12,
   "id": "3112ac1e",
   "metadata": {},
   "outputs": [],
   "source": [
    "root = TreeNode(1,\n",
    "                TreeNode(2, TreeNode(3), TreeNode(4)),\n",
    "                TreeNode(2, TreeNode(4), TreeNode(3))\n",
    "                )\n",
    "\n",
    "assert is_symmetric(root)"
   ]
  },
  {
   "cell_type": "code",
   "execution_count": 13,
   "id": "33aa768f",
   "metadata": {},
   "outputs": [],
   "source": [
    "root = TreeNode(1,\n",
    "                TreeNode(2, None, TreeNode(3)),\n",
    "                TreeNode(2, None, TreeNode(3))\n",
    "                )\n",
    "\n",
    "assert not is_symmetric(root)"
   ]
  },
  {
   "cell_type": "markdown",
   "id": "06529df7",
   "metadata": {},
   "source": [
    "#### Iterative approach:"
   ]
  },
  {
   "cell_type": "code",
   "execution_count": 14,
   "id": "27c78964",
   "metadata": {},
   "outputs": [],
   "source": [
    "# FIFO, time complexity O(n) for deque\n",
    "from collections import deque\n",
    "\n",
    "\n",
    "def is_symmetric(root: TreeNode) -> bool:\n",
    "    q = deque()\n",
    "    q.append(root)\n",
    "    q.append(root)\n",
    "\n",
    "    while len(q) != 0:\n",
    "        t1 = q.popleft()\n",
    "        t2 = q.popleft()\n",
    "\n",
    "        if not t1 and not t2:\n",
    "            continue\n",
    "        if not t1 or not t2:\n",
    "            return False\n",
    "        if t1.val != t2.val:\n",
    "            return False\n",
    "\n",
    "        q.append(t1.left)\n",
    "        q.append(t2.right)\n",
    "\n",
    "        q.append(t1.right)\n",
    "        q.append(t2.left)\n",
    "\n",
    "    return True"
   ]
  },
  {
   "cell_type": "code",
   "execution_count": 15,
   "id": "87d74f54",
   "metadata": {},
   "outputs": [],
   "source": [
    "root = TreeNode(1,\n",
    "                TreeNode(2, TreeNode(3), TreeNode(4)),\n",
    "                TreeNode(2, TreeNode(4), TreeNode(3))\n",
    "                )\n",
    "\n",
    "assert is_symmetric(root)"
   ]
  },
  {
   "cell_type": "code",
   "execution_count": 16,
   "id": "b92b1147",
   "metadata": {},
   "outputs": [],
   "source": [
    "root = TreeNode(1,\n",
    "                TreeNode(2, None, TreeNode(3)),\n",
    "                TreeNode(2, None, TreeNode(3))\n",
    "                )\n",
    "\n",
    "assert not is_symmetric(root)"
   ]
  },
  {
   "cell_type": "markdown",
   "id": "10526fcd",
   "metadata": {},
   "source": [
    "## Binary Tree Level Order Traversal\n",
    "\n",
    "Given the root of a binary tree, return the level order traversal of its nodes' values. (i.e., from left to right, level by level).\n",
    "\n",
    "#### Examples:\n",
    "\n",
    "![tree](./img/tree3.jpg)\n",
    "\n",
    "```\n",
    "Input: root = [3,9,20,null,null,15,7]\n",
    "Output: [[3],[9,20],[15,7]]\n",
    "```\n",
    "\n",
    "```\n",
    "Input: root = [1]\n",
    "Output: [[1]]\n",
    "```\n",
    "\n",
    "```\n",
    "Input: root = []\n",
    "Output: []\n",
    "```\n",
    "\n",
    "#### Constraints:\n",
    "\n",
    "- The number of nodes in the tree is in the range [0, 2000].\n",
    "- -1000 <= Node.val <= 1000"
   ]
  },
  {
   "cell_type": "code",
   "execution_count": 17,
   "id": "6816d332",
   "metadata": {},
   "outputs": [],
   "source": [
    "from typing import List\n",
    "import numpy as np\n",
    "\n",
    "\n",
    "def level_order(root: TreeNode) -> List[List[int]]:\n",
    "    levels = []\n",
    "    \n",
    "    if not root:\n",
    "        return levels\n",
    "    \n",
    "    def helper(root: TreeNode, level: int):\n",
    "        if len(levels) == level:\n",
    "            levels.append([])\n",
    "        \n",
    "        levels[level].append(root.val)\n",
    "        \n",
    "        if root.left:\n",
    "            helper(root.left, level + 1)\n",
    "        if root.right:\n",
    "            helper(root.right, level + 1)\n",
    "    \n",
    "    helper(root, 0)\n",
    "\n",
    "    return levels"
   ]
  },
  {
   "cell_type": "code",
   "execution_count": 18,
   "id": "3442f51b",
   "metadata": {},
   "outputs": [],
   "source": [
    "root = TreeNode(1,\n",
    "                TreeNode(2, TreeNode(4), None),\n",
    "                TreeNode(3, TreeNode(5), TreeNode(6))\n",
    "                )\n",
    "\n",
    "assert level_order(root) == [[1], [2, 3], [4, 5, 6]]"
   ]
  },
  {
   "cell_type": "code",
   "execution_count": 19,
   "id": "bc094431",
   "metadata": {},
   "outputs": [],
   "source": [
    "root = TreeNode(3,\n",
    "                TreeNode(9),\n",
    "                TreeNode(20, TreeNode(15), TreeNode(7))\n",
    "                )\n",
    "\n",
    "assert level_order(root) == [[3], [9, 20], [15, 7]]"
   ]
  },
  {
   "cell_type": "code",
   "execution_count": 20,
   "id": "0ec8c4bf",
   "metadata": {},
   "outputs": [],
   "source": [
    "root = TreeNode(1)\n",
    "\n",
    "assert level_order(root) == [[1]]"
   ]
  },
  {
   "cell_type": "code",
   "execution_count": 21,
   "id": "8ed3e481",
   "metadata": {},
   "outputs": [],
   "source": [
    "root = None\n",
    "\n",
    "assert level_order(root) == []"
   ]
  },
  {
   "cell_type": "code",
   "execution_count": null,
   "id": "b49861b0",
   "metadata": {},
   "outputs": [],
   "source": []
  }
 ],
 "metadata": {
  "kernelspec": {
   "display_name": "Python 3",
   "language": "python",
   "name": "python3"
  },
  "language_info": {
   "codemirror_mode": {
    "name": "ipython",
    "version": 3
   },
   "file_extension": ".py",
   "mimetype": "text/x-python",
   "name": "python",
   "nbconvert_exporter": "python",
   "pygments_lexer": "ipython3",
   "version": "3.8.5"
  }
 },
 "nbformat": 4,
 "nbformat_minor": 5
}
