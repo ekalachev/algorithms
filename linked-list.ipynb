{
 "cells": [
  {
   "cell_type": "markdown",
   "id": "13e0fce4",
   "metadata": {},
   "source": [
    "# Linked List"
   ]
  },
  {
   "cell_type": "code",
   "execution_count": 1,
   "id": "db62130e",
   "metadata": {},
   "outputs": [],
   "source": [
    "from typing import List\n",
    "import numpy as np"
   ]
  },
  {
   "cell_type": "code",
   "execution_count": 2,
   "id": "7aec31ba",
   "metadata": {},
   "outputs": [],
   "source": [
    "# Definition for singly-linked list.\n",
    "class ListNode:\n",
    "    def __init__(self, x):\n",
    "        self.val = x\n",
    "        self.next = None"
   ]
  },
  {
   "cell_type": "markdown",
   "id": "8d2d837a",
   "metadata": {},
   "source": [
    "## Delete Node in a Linked List\n",
    "\n",
    "Write a function to delete a node in a singly-linked list. You will not be given access to the head of the list, instead you will be given access to the node to be deleted directly.\n",
    "\n",
    "It is guaranteed that the node to be deleted is not a tail node in the list.\n",
    "\n",
    "#### Examples:\n",
    "\n",
    "![linked_list](./img/linked_list1.jpg)\n",
    "\n",
    "```\n",
    "Input: head = [4,5,1,9], node = 5\n",
    "Output: [4,1,9]\n",
    "Explanation: You are given the second node with value 5, the linked list should become 4 -> 1 -> 9 after calling your function.\n",
    "```\n",
    "\n",
    "![linked_list](./img/linked_list2.jpg)\n",
    "\n",
    "```\n",
    "Input: head = [4,5,1,9], node = 1\n",
    "Output: [4,5,9]\n",
    "Explanation: You are given the third node with value 1, the linked list should become 4 -> 5 -> 9 after calling your function.\n",
    "```\n",
    "\n",
    "```\n",
    "Input: head = [1,2,3,4], node = 3\n",
    "Output: [1,2,4]\n",
    "```\n",
    "\n",
    "```\n",
    "Input: head = [0,1], node = 0\n",
    "Output: [1]\n",
    "```\n",
    "\n",
    "```\n",
    "Input: head = [-3,5,-99], node = -3\n",
    "Output: [5,-99]\n",
    "```\n",
    "\n",
    "#### Constraints:\n",
    "\n",
    "- The number of the nodes in the given list is in the range [2, 1000].\n",
    "- -1000 <= Node.val <= 1000\n",
    "- The value of each node in the list is unique.\n",
    "- The node to be deleted is in the list and is not a tail node"
   ]
  },
  {
   "cell_type": "code",
   "execution_count": 3,
   "id": "12d4dbee",
   "metadata": {},
   "outputs": [],
   "source": [
    "def deleteNode(node: ListNode) -> None:\n",
    "    node.val = node.next.val\n",
    "    node.next = node.next.next"
   ]
  },
  {
   "cell_type": "code",
   "execution_count": 4,
   "id": "a3a84efb",
   "metadata": {},
   "outputs": [],
   "source": [
    "node = ListNode(4)\n",
    "node.next = ListNode(5)\n",
    "node.next.next = ListNode(1)\n",
    "node.next.next.next = ListNode(9)\n",
    "\n",
    "r_node = node.next\n",
    "\n",
    "deleteNode(r_node)\n",
    "\n",
    "assert r_node.val == node.next.val"
   ]
  },
  {
   "cell_type": "code",
   "execution_count": null,
   "id": "d73f22c3",
   "metadata": {},
   "outputs": [],
   "source": []
  }
 ],
 "metadata": {
  "kernelspec": {
   "display_name": "Python 3",
   "language": "python",
   "name": "python3"
  },
  "language_info": {
   "codemirror_mode": {
    "name": "ipython",
    "version": 3
   },
   "file_extension": ".py",
   "mimetype": "text/x-python",
   "name": "python",
   "nbconvert_exporter": "python",
   "pygments_lexer": "ipython3",
   "version": "3.8.5"
  }
 },
 "nbformat": 4,
 "nbformat_minor": 5
}
