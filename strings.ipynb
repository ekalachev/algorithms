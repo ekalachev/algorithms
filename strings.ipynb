{
 "cells": [
  {
   "cell_type": "markdown",
   "id": "d04a38b8",
   "metadata": {},
   "source": [
    "# Strings"
   ]
  },
  {
   "cell_type": "code",
   "execution_count": 1,
   "id": "9532d0ff",
   "metadata": {},
   "outputs": [],
   "source": [
    "from typing import List\n",
    "import numpy as np"
   ]
  },
  {
   "cell_type": "markdown",
   "id": "a34c623c",
   "metadata": {},
   "source": [
    "## Reverse String\n",
    "\n",
    "Write a function that reverses a string. The input string is given as an array of characters s.\n",
    "\n",
    "#### Examples:\n",
    "```\n",
    "Input: s = [\"h\",\"e\",\"l\",\"l\",\"o\"]\n",
    "Output: [\"o\",\"l\",\"l\",\"e\",\"h\"]\n",
    "```\n",
    "\n",
    "```\n",
    "Input: s = [\"H\",\"a\",\"n\",\"n\",\"a\",\"h\"]\n",
    "Output: [\"h\",\"a\",\"n\",\"n\",\"a\",\"H\"]\n",
    "```\n",
    "\n",
    "#### Follow up:\n",
    "Do not allocate extra space for another array. You must do this by modifying the input array in-place with O(1) extra memory."
   ]
  },
  {
   "cell_type": "code",
   "execution_count": 2,
   "id": "1c49d596",
   "metadata": {},
   "outputs": [],
   "source": [
    "def reverseString(s: List[str]) -> None:\n",
    "    i, j = 0, len(s) - 1\n",
    "    \n",
    "    while i < j:\n",
    "        s[i], s[j] = s[j], s[i]\n",
    "        i += 1\n",
    "        j -= 1"
   ]
  },
  {
   "cell_type": "code",
   "execution_count": 3,
   "id": "6a3a96e7",
   "metadata": {},
   "outputs": [
    {
     "data": {
      "text/plain": [
       "['o', 'l', 'l', 'e', 'h']"
      ]
     },
     "execution_count": 3,
     "metadata": {},
     "output_type": "execute_result"
    }
   ],
   "source": [
    "s = [\"h\", \"e\", \"l\", \"l\", \"o\"]\n",
    "reverseString(s)\n",
    "s"
   ]
  },
  {
   "cell_type": "code",
   "execution_count": 4,
   "id": "2a703109",
   "metadata": {},
   "outputs": [
    {
     "data": {
      "text/plain": [
       "['h', 'a', 'n', 'n', 'a', 'H']"
      ]
     },
     "execution_count": 4,
     "metadata": {},
     "output_type": "execute_result"
    }
   ],
   "source": [
    "s = [\"H\", \"a\", \"n\", \"n\", \"a\", \"h\"]\n",
    "reverseString(s)\n",
    "s"
   ]
  },
  {
   "cell_type": "code",
   "execution_count": 5,
   "id": "6da2dd01",
   "metadata": {},
   "outputs": [
    {
     "data": {
      "text/plain": [
       "['a', 'H']"
      ]
     },
     "execution_count": 5,
     "metadata": {},
     "output_type": "execute_result"
    }
   ],
   "source": [
    "s = [\"H\", \"a\"]\n",
    "reverseString(s)\n",
    "s"
   ]
  },
  {
   "cell_type": "markdown",
   "id": "823c6de7",
   "metadata": {},
   "source": [
    "## Reverse Integer\n",
    "\n",
    "Given a signed 32-bit integer x, return x with its digits reversed. If reversing x causes the value to go outside the signed 32-bit integer range $[-2^{31}, 2^{31} - 1]$, then return 0.\n",
    "\n",
    "Assume the environment does not allow you to store 64-bit integers (signed or unsigned).\n",
    "\n",
    "#### Examples:\n",
    "```\n",
    "Input: x = 123\n",
    "Output: 321\n",
    "```\n",
    "\n",
    "```\n",
    "Input: x = -123\n",
    "Output: -321\n",
    "```\n",
    "\n",
    "```\n",
    "Input: x = 120\n",
    "Output: 21\n",
    "```\n",
    "\n",
    "```\n",
    "Input: x = 0\n",
    "Output: 0\n",
    "```"
   ]
  },
  {
   "cell_type": "code",
   "execution_count": 6,
   "id": "747a69c5",
   "metadata": {},
   "outputs": [],
   "source": [
    "def reverse(x: int) -> int:\n",
    "    newx = 0\n",
    "    a = abs(x)\n",
    "    while a != 0:\n",
    "        rem = a % 10\n",
    "        a //= 10\n",
    "        newx = newx * 10 + rem\n",
    "    \n",
    "    if newx > 2**31:\n",
    "        return 0\n",
    "    \n",
    "    return newx if x > 0 else newx * -1"
   ]
  },
  {
   "cell_type": "code",
   "execution_count": 7,
   "id": "fbb48a90",
   "metadata": {},
   "outputs": [],
   "source": [
    "x = 123\n",
    "assert reverse(x) == 321"
   ]
  },
  {
   "cell_type": "code",
   "execution_count": 8,
   "id": "dad315e6",
   "metadata": {},
   "outputs": [],
   "source": [
    "x = -123\n",
    "assert reverse(x) == -321"
   ]
  },
  {
   "cell_type": "code",
   "execution_count": 9,
   "id": "b31298a9",
   "metadata": {},
   "outputs": [],
   "source": [
    "x = 1534236469\n",
    "assert reverse(x) == 0"
   ]
  },
  {
   "cell_type": "code",
   "execution_count": 10,
   "id": "f54add25",
   "metadata": {},
   "outputs": [],
   "source": [
    "x = -2147483648\n",
    "assert reverse(x) == 0"
   ]
  },
  {
   "cell_type": "markdown",
   "id": "228c57c7",
   "metadata": {},
   "source": [
    "## First Unique Character in a String\n",
    "\n",
    "Given a string s, return the first non-repeating character in it and return its index. If it does not exist, return -1.\n",
    "\n",
    "#### Examples:\n",
    "```\n",
    "Input: s = \"leetcode\"\n",
    "Output: 0\n",
    "```\n",
    "```\n",
    "Input: s = \"loveleetcode\"\n",
    "Output: 2\n",
    "```\n",
    "```\n",
    "Input: s = \"aabb\"\n",
    "Output: -1\n",
    "```\n",
    "\n",
    "#### Constraints:\n",
    "- 1 <= s.length <= $10^{5}$\n",
    "- s consists of only lowercase English letters."
   ]
  },
  {
   "cell_type": "code",
   "execution_count": 11,
   "id": "3ece59a5",
   "metadata": {},
   "outputs": [],
   "source": [
    "def firstUniqChar(s: str) -> int:\n",
    "    s_dict = {}\n",
    "    for c in s:\n",
    "        s_dict[c] = s_dict.get(c, 0) + 1\n",
    "\n",
    "    for i in range(len(s)):\n",
    "        if s_dict[s[i]] == 1:\n",
    "            return i\n",
    "\n",
    "    return -1"
   ]
  },
  {
   "cell_type": "code",
   "execution_count": 12,
   "id": "09ba2235",
   "metadata": {},
   "outputs": [],
   "source": [
    "s = \"leetcode\"\n",
    "assert firstUniqChar(s) == 0"
   ]
  },
  {
   "cell_type": "code",
   "execution_count": 13,
   "id": "f4cc2b66",
   "metadata": {},
   "outputs": [],
   "source": [
    "s = \"loveleetcode\"\n",
    "assert firstUniqChar(s) == 2"
   ]
  },
  {
   "cell_type": "code",
   "execution_count": 14,
   "id": "8230f5cc",
   "metadata": {},
   "outputs": [],
   "source": [
    "s = \"aabb\"\n",
    "assert firstUniqChar(s) == -1"
   ]
  },
  {
   "cell_type": "markdown",
   "id": "836cbf49",
   "metadata": {},
   "source": [
    "## Valid Anagram\n",
    "\n",
    "Given two strings s and t, return true if t is an anagram of s, and false otherwise.\n",
    "\n",
    "#### Examples:\n",
    "```\n",
    "Input: s = \"anagram\", t = \"nagaram\"\n",
    "Output: true\n",
    "```\n",
    "\n",
    "```\n",
    "Input: s = \"rat\", t = \"car\"\n",
    "Output: false\n",
    "```\n",
    "\n",
    "#### Constraints:\n",
    "- 1 <= s.length, t.length <= 5 * $10^{4}$\n",
    "- s and t consist of lowercase English letters.\n",
    " \n",
    "\n",
    "#### Follow up:\n",
    "What if the inputs contain Unicode characters? How would you adapt your solution to such a case?"
   ]
  },
  {
   "cell_type": "code",
   "execution_count": 15,
   "id": "2e64950a",
   "metadata": {},
   "outputs": [],
   "source": [
    "def isAnagram(s: str, t: str) -> bool:\n",
    "    if len(s) != len(t):\n",
    "        return False\n",
    "    \n",
    "    s_dict = {}\n",
    "    t_dict = {}\n",
    "    \n",
    "    for c in s:\n",
    "        s_dict[c] = s_dict.get(c, 0) + 1\n",
    "    for c in t:\n",
    "        t_dict[c] = t_dict.get(c, 0) + 1\n",
    "    for key in s_dict.keys():\n",
    "        if key not in t_dict or s_dict[key] != t_dict[key]:\n",
    "            return False\n",
    "\n",
    "    return True"
   ]
  },
  {
   "cell_type": "code",
   "execution_count": 16,
   "id": "bf78e043",
   "metadata": {},
   "outputs": [],
   "source": [
    "s = \"anagram\"\n",
    "t = \"nagaram\"\n",
    "\n",
    "assert isAnagram(s, t)"
   ]
  },
  {
   "cell_type": "code",
   "execution_count": 17,
   "id": "cf8ee02b",
   "metadata": {},
   "outputs": [],
   "source": [
    "s = \"rat\"\n",
    "t = \"car\"\n",
    "\n",
    "assert isAnagram(s, t) != True"
   ]
  },
  {
   "cell_type": "markdown",
   "id": "60cefc63",
   "metadata": {},
   "source": [
    "## Valid Palindrome\n",
    "\n",
    "Given a string s, determine if it is a palindrome, considering only alphanumeric characters and ignoring cases.\n",
    "\n",
    "#### Examples:\n",
    "```\n",
    "Input: s = \"A man, a plan, a canal: Panama\"\n",
    "Output: true\n",
    "Explanation: \"amanaplanacanalpanama\" is a palindrome.\n",
    "```\n",
    "\n",
    "```\n",
    "Input: s = \"race a car\"\n",
    "Output: false\n",
    "Explanation: \"raceacar\" is not a palindrome.\n",
    "```\n",
    "\n",
    "#### Constraints:\n",
    "\n",
    "1 <= s.length <= 2 * $10^{5}$\n",
    "s consists only of printable ASCII characters."
   ]
  },
  {
   "cell_type": "code",
   "execution_count": 18,
   "id": "158e97f5",
   "metadata": {},
   "outputs": [],
   "source": [
    "def isPalindrome(s: str) -> bool:\n",
    "    i, j = 0, len(s) - 1\n",
    "\n",
    "    while i < j:\n",
    "        while s[i].isalnum() is not True and i < j:\n",
    "            i += 1\n",
    "        while s[j].isalnum() is not True and j > i:\n",
    "            j -= 1\n",
    "\n",
    "        if s[i].lower() != s[j].lower():\n",
    "            return False\n",
    "        \n",
    "        i += 1\n",
    "        j -= 1\n",
    "\n",
    "    return True"
   ]
  },
  {
   "cell_type": "code",
   "execution_count": 19,
   "id": "2c482d3e",
   "metadata": {},
   "outputs": [],
   "source": [
    "s = \"A man, a plan, a canal: Panama\"\n",
    "assert isPalindrome(s)"
   ]
  },
  {
   "cell_type": "code",
   "execution_count": 20,
   "id": "2fa265ee",
   "metadata": {},
   "outputs": [],
   "source": [
    "s = \"race a car\"\n",
    "assert isPalindrome(s) is False"
   ]
  },
  {
   "cell_type": "code",
   "execution_count": null,
   "id": "613408ae",
   "metadata": {},
   "outputs": [],
   "source": []
  }
 ],
 "metadata": {
  "kernelspec": {
   "display_name": "Python 3",
   "language": "python",
   "name": "python3"
  },
  "language_info": {
   "codemirror_mode": {
    "name": "ipython",
    "version": 3
   },
   "file_extension": ".py",
   "mimetype": "text/x-python",
   "name": "python",
   "nbconvert_exporter": "python",
   "pygments_lexer": "ipython3",
   "version": "3.8.5"
  }
 },
 "nbformat": 4,
 "nbformat_minor": 5
}
