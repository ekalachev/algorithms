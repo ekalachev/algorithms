{
 "cells": [
  {
   "cell_type": "markdown",
   "id": "1a766ef0",
   "metadata": {},
   "source": [
    "# Strings"
   ]
  },
  {
   "cell_type": "code",
   "execution_count": 1,
   "id": "fb923f77",
   "metadata": {},
   "outputs": [],
   "source": [
    "from typing import List\n",
    "import numpy as np"
   ]
  },
  {
   "cell_type": "markdown",
   "id": "4a03120f",
   "metadata": {},
   "source": [
    "## Reverse String\n",
    "\n",
    "Write a function that reverses a string. The input string is given as an array of characters s.\n",
    "\n",
    "#### Examples:\n",
    "```\n",
    "Input: s = [\"h\",\"e\",\"l\",\"l\",\"o\"]\n",
    "Output: [\"o\",\"l\",\"l\",\"e\",\"h\"]\n",
    "```\n",
    "\n",
    "```\n",
    "Input: s = [\"H\",\"a\",\"n\",\"n\",\"a\",\"h\"]\n",
    "Output: [\"h\",\"a\",\"n\",\"n\",\"a\",\"H\"]\n",
    "```\n",
    "\n",
    "#### Follow up:\n",
    "Do not allocate extra space for another array. You must do this by modifying the input array in-place with O(1) extra memory."
   ]
  },
  {
   "cell_type": "code",
   "execution_count": 2,
   "id": "4733bb80",
   "metadata": {},
   "outputs": [],
   "source": [
    "def reverseString(s: List[str]) -> None:\n",
    "    i, j = 0, len(s) - 1\n",
    "    \n",
    "    while i < j:\n",
    "        s[i], s[j] = s[j], s[i]\n",
    "        i += 1\n",
    "        j -= 1"
   ]
  },
  {
   "cell_type": "code",
   "execution_count": 3,
   "id": "942a3a17",
   "metadata": {},
   "outputs": [
    {
     "data": {
      "text/plain": [
       "['o', 'l', 'l', 'e', 'h']"
      ]
     },
     "execution_count": 3,
     "metadata": {},
     "output_type": "execute_result"
    }
   ],
   "source": [
    "s = [\"h\", \"e\", \"l\", \"l\", \"o\"]\n",
    "\n",
    "reverseString(s)\n",
    "\n",
    "s"
   ]
  },
  {
   "cell_type": "code",
   "execution_count": 4,
   "id": "7c27bb04",
   "metadata": {},
   "outputs": [
    {
     "data": {
      "text/plain": [
       "['h', 'a', 'n', 'n', 'a', 'H']"
      ]
     },
     "execution_count": 4,
     "metadata": {},
     "output_type": "execute_result"
    }
   ],
   "source": [
    "s = [\"H\", \"a\", \"n\", \"n\", \"a\", \"h\"]\n",
    "\n",
    "reverseString(s)\n",
    "\n",
    "s"
   ]
  },
  {
   "cell_type": "code",
   "execution_count": 5,
   "id": "f5ea6bbd",
   "metadata": {},
   "outputs": [
    {
     "data": {
      "text/plain": [
       "['a', 'H']"
      ]
     },
     "execution_count": 5,
     "metadata": {},
     "output_type": "execute_result"
    }
   ],
   "source": [
    "s = [\"H\", \"a\"]\n",
    "\n",
    "reverseString(s)\n",
    "\n",
    "s"
   ]
  },
  {
   "cell_type": "markdown",
   "id": "2f9f6bbe",
   "metadata": {},
   "source": [
    "## Reverse Integer\n",
    "\n",
    "Given a signed 32-bit integer x, return x with its digits reversed. If reversing x causes the value to go outside the signed 32-bit integer range $[-2^{31}, 2^{31} - 1]$, then return 0.\n",
    "\n",
    "Assume the environment does not allow you to store 64-bit integers (signed or unsigned).\n",
    "\n",
    "#### Examples:\n",
    "```\n",
    "Input: x = 123\n",
    "Output: 321\n",
    "```\n",
    "\n",
    "```\n",
    "Input: x = -123\n",
    "Output: -321\n",
    "```\n",
    "\n",
    "```\n",
    "Input: x = 120\n",
    "Output: 21\n",
    "```\n",
    "\n",
    "```\n",
    "Input: x = 0\n",
    "Output: 0\n",
    "```"
   ]
  },
  {
   "cell_type": "code",
   "execution_count": 40,
   "id": "29f6111e",
   "metadata": {},
   "outputs": [],
   "source": [
    "def reverse(x: int) -> int:\n",
    "    newx = 0\n",
    "    a = abs(x)\n",
    "    while a != 0:\n",
    "        rem = a % 10\n",
    "        a //= 10\n",
    "        newx = newx * 10 + rem\n",
    "    \n",
    "    if newx > 2**31:\n",
    "        return 0\n",
    "    \n",
    "    return newx if x > 0 else newx * -1"
   ]
  },
  {
   "cell_type": "code",
   "execution_count": 41,
   "id": "e00cf12b",
   "metadata": {},
   "outputs": [
    {
     "data": {
      "text/plain": [
       "321"
      ]
     },
     "execution_count": 41,
     "metadata": {},
     "output_type": "execute_result"
    }
   ],
   "source": [
    "x = 123\n",
    "\n",
    "reverse(x)"
   ]
  },
  {
   "cell_type": "code",
   "execution_count": 42,
   "id": "75df88ad",
   "metadata": {},
   "outputs": [
    {
     "data": {
      "text/plain": [
       "-321"
      ]
     },
     "execution_count": 42,
     "metadata": {},
     "output_type": "execute_result"
    }
   ],
   "source": [
    "x = -123\n",
    "\n",
    "reverse(x)"
   ]
  },
  {
   "cell_type": "code",
   "execution_count": 43,
   "id": "f044537b",
   "metadata": {},
   "outputs": [
    {
     "data": {
      "text/plain": [
       "0"
      ]
     },
     "execution_count": 43,
     "metadata": {},
     "output_type": "execute_result"
    }
   ],
   "source": [
    "x = 1534236469\n",
    "\n",
    "reverse(x)"
   ]
  },
  {
   "cell_type": "code",
   "execution_count": 44,
   "id": "ca5c0329",
   "metadata": {},
   "outputs": [
    {
     "data": {
      "text/plain": [
       "0"
      ]
     },
     "execution_count": 44,
     "metadata": {},
     "output_type": "execute_result"
    }
   ],
   "source": [
    "x = -2147483648\n",
    "\n",
    "reverse(x)"
   ]
  },
  {
   "cell_type": "code",
   "execution_count": null,
   "id": "501ac2b0",
   "metadata": {},
   "outputs": [],
   "source": []
  }
 ],
 "metadata": {
  "kernelspec": {
   "display_name": "Python 3",
   "language": "python",
   "name": "python3"
  },
  "language_info": {
   "codemirror_mode": {
    "name": "ipython",
    "version": 3
   },
   "file_extension": ".py",
   "mimetype": "text/x-python",
   "name": "python",
   "nbconvert_exporter": "python",
   "pygments_lexer": "ipython3",
   "version": "3.8.5"
  }
 },
 "nbformat": 4,
 "nbformat_minor": 5
}
