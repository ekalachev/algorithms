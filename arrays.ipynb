{
 "cells": [
  {
   "cell_type": "markdown",
   "id": "c4c8dd95",
   "metadata": {},
   "source": [
    "# Arrays"
   ]
  },
  {
   "cell_type": "code",
   "execution_count": 1,
   "id": "802c57fd",
   "metadata": {},
   "outputs": [],
   "source": [
    "from typing import List\n",
    "import numpy as np"
   ]
  },
  {
   "cell_type": "markdown",
   "id": "bcdbad68",
   "metadata": {},
   "source": [
    "## Remove Duplicates from Sorted Array\n",
    "\n",
    "Given a sorted array nums, remove the duplicates in-place such that each element appears only once and returns the new length.\n",
    "\n",
    "Do not allocate extra space for another array, you must do this by modifying the input array in-place with O(1) extra memory.\n",
    "\n",
    "Clarification:\n",
    "\n",
    "Confused why the returned value is an integer but your answer is an array?\n",
    "\n",
    "Note that the input array is passed in by reference, which means a modification to the input array will be known to the caller as well.\n",
    "\n",
    "#### Examples:\n",
    "```\n",
    "Input: nums = [1,1,2]\n",
    "Output: 2, nums = [1,2]\n",
    "Explanation: Your function should return length = 2, with the first two elements of nums being 1 and 2 respectively. It doesn't matter what you leave beyond the returned length.\n",
    "```\n",
    "\n",
    "```\n",
    "Input: nums = [0,0,1,1,1,2,2,3,3,4]\n",
    "Output: 5, nums = [0,1,2,3,4]\n",
    "Explanation: Your function should return length = 5, with the first five elements of nums being modified to 0, 1, 2, 3, and 4 respectively. It doesn't matter what values are set beyond the returned length.\n",
    "```"
   ]
  },
  {
   "cell_type": "code",
   "execution_count": 2,
   "id": "cf0537cf",
   "metadata": {},
   "outputs": [],
   "source": [
    "def removeDuplicates(nums: List[int]) -> int:\n",
    "    if len(nums) == 0:\n",
    "        return 0\n",
    "\n",
    "    cur = 0\n",
    "    cur_val = nums[cur]\n",
    "\n",
    "    for i in range(0, len(nums)):\n",
    "        if cur_val != nums[i]:\n",
    "            cur += 1\n",
    "            nums[cur] = nums[i]\n",
    "            cur_val = nums[i]\n",
    "\n",
    "    return cur + 1"
   ]
  },
  {
   "cell_type": "code",
   "execution_count": 3,
   "id": "9b7443d8",
   "metadata": {},
   "outputs": [
    {
     "name": "stdout",
     "output_type": "stream",
     "text": [
      "[0, 1, 2, 3, 4]\n"
     ]
    }
   ],
   "source": [
    "nums = [0, 0, 1, 1, 1, 2, 2, 3, 3, 4]\n",
    "length = removeDuplicates(nums)\n",
    "print(nums[:length])"
   ]
  },
  {
   "cell_type": "markdown",
   "id": "9da2c5bd",
   "metadata": {},
   "source": [
    "## Best Time to Buy and Sell Stock II\n",
    "\n",
    "You are given an array prices where prices[i] is the price of a given stock on the ith day.\n",
    "\n",
    "Find the maximum profit you can achieve. You may complete as many transactions as you like (i.e., buy one and sell one share of the stock multiple times).\n",
    "\n",
    "Note: You may not engage in multiple transactions simultaneously (i.e., you must sell the stock before you buy again).\n",
    "\n",
    "#### Examples:\n",
    "\n",
    "```\n",
    "Input: prices = [7,1,5,3,6,4]\n",
    "Output: 7\n",
    "Explanation: Buy on day 2 (price = 1) and sell on day 3 (price = 5), profit = 5-1 = 4.\n",
    "Then buy on day 4 (price = 3) and sell on day 5 (price = 6), profit = 6-3 = 3.\n",
    "```\n",
    "\n",
    "```\n",
    "Input: prices = [1,2,3,4,5]\n",
    "Output: 4\n",
    "Explanation: Buy on day 1 (price = 1) and sell on day 5 (price = 5), profit = 5-1 = 4.\n",
    "Note that you cannot buy on day 1, buy on day 2 and sell them later, as you are engaging multiple transactions at the same time. You must sell before buying again.\n",
    "```"
   ]
  },
  {
   "cell_type": "code",
   "execution_count": 4,
   "id": "26973c62",
   "metadata": {},
   "outputs": [],
   "source": [
    "def maxProfit(prices: List[int]) -> int:\n",
    "    profit = 0\n",
    "    prev = float('inf')\n",
    "\n",
    "    for cur in prices:\n",
    "        if prev < cur:\n",
    "            profit += cur - prev\n",
    "        prev = cur\n",
    "\n",
    "    return profit"
   ]
  },
  {
   "cell_type": "code",
   "execution_count": 5,
   "id": "904bfb3c",
   "metadata": {},
   "outputs": [
    {
     "name": "stdout",
     "output_type": "stream",
     "text": [
      "7\n"
     ]
    }
   ],
   "source": [
    "nums = [7, 1, 5, 3, 6, 4]\n",
    "profit = maxProfit(nums)\n",
    "print(profit)"
   ]
  },
  {
   "cell_type": "markdown",
   "id": "38fb4551",
   "metadata": {},
   "source": [
    "## Rotate Array\n",
    "\n",
    "Given an array, rotate the array to the right by k steps, where k is non-negative.\n",
    "\n",
    "#### Examples:\n",
    "```\n",
    "Input: nums = [1,2,3,4,5,6,7], k = 3\n",
    "Output: [5,6,7,1,2,3,4]\n",
    "Explanation:\n",
    "rotate 1 steps to the right: [7,1,2,3,4,5,6]\n",
    "rotate 2 steps to the right: [6,7,1,2,3,4,5]\n",
    "rotate 3 steps to the right: [5,6,7,1,2,3,4]\n",
    "```\n",
    "\n",
    "#### Solution:\n",
    "![solution](./img/rotate_array.png)"
   ]
  },
  {
   "cell_type": "code",
   "execution_count": 6,
   "id": "43bd5a24",
   "metadata": {},
   "outputs": [],
   "source": [
    "def rotate(nums: List[int], k: int) -> None:\n",
    "    arr_len = len(nums)\n",
    "    k = k % arr_len\n",
    "\n",
    "    if arr_len == 0 or arr_len == k:\n",
    "        return\n",
    "\n",
    "    start_i = count = 0\n",
    "\n",
    "    while count < arr_len:\n",
    "        cur_i, prev_v = start_i, nums[start_i]\n",
    "\n",
    "        while True:\n",
    "            next_i = (cur_i + k) % arr_len\n",
    "            nums[next_i], prev_v = prev_v, nums[next_i]\n",
    "            cur_i = next_i\n",
    "            count += 1\n",
    "\n",
    "            if start_i == cur_i:\n",
    "                break\n",
    "\n",
    "        start_i += 1"
   ]
  },
  {
   "cell_type": "code",
   "execution_count": 7,
   "id": "56a343b8",
   "metadata": {},
   "outputs": [
    {
     "name": "stdout",
     "output_type": "stream",
     "text": [
      "[5, 6, 7, 1, 2, 3, 4]\n"
     ]
    }
   ],
   "source": [
    "nums = [1, 2, 3, 4, 5, 6, 7]\n",
    "k = 3\n",
    "rotate(nums, k)\n",
    "print(nums)"
   ]
  },
  {
   "cell_type": "code",
   "execution_count": 8,
   "id": "3d11c83c",
   "metadata": {},
   "outputs": [
    {
     "name": "stdout",
     "output_type": "stream",
     "text": [
      "[3, 4, 1, 2]\n"
     ]
    }
   ],
   "source": [
    "nums = [1, 2, 3, 4]\n",
    "k = 2\n",
    "rotate(nums, k)\n",
    "print(nums)"
   ]
  },
  {
   "cell_type": "markdown",
   "id": "89b639ed",
   "metadata": {},
   "source": [
    "## Contains Duplicate\n",
    "\n",
    "Given an integer array nums, return true if any value appears at least twice in the array, and return false if every element is distinct.\n",
    "\n",
    "#### Examples:\n",
    "```\n",
    "Input: nums = [1,2,3,1]\n",
    "Output: true\n",
    "```\n",
    "```\n",
    "Input: nums = [1,2,3,4]\n",
    "Output: false\n",
    "```"
   ]
  },
  {
   "cell_type": "code",
   "execution_count": 9,
   "id": "639cd493",
   "metadata": {},
   "outputs": [],
   "source": [
    "def containsDuplicate(nums: List[int]) -> bool:\n",
    "    return len(nums) != len(set(nums))"
   ]
  },
  {
   "cell_type": "code",
   "execution_count": 10,
   "id": "5ba132b5",
   "metadata": {},
   "outputs": [
    {
     "data": {
      "text/plain": [
       "True"
      ]
     },
     "execution_count": 10,
     "metadata": {},
     "output_type": "execute_result"
    }
   ],
   "source": [
    "nums = [1,2,3,1]\n",
    "containsDuplicate(nums)"
   ]
  },
  {
   "cell_type": "code",
   "execution_count": 11,
   "id": "ec2eabde",
   "metadata": {},
   "outputs": [
    {
     "data": {
      "text/plain": [
       "False"
      ]
     },
     "execution_count": 11,
     "metadata": {},
     "output_type": "execute_result"
    }
   ],
   "source": [
    "nums = [1,2,3]\n",
    "containsDuplicate(nums)"
   ]
  },
  {
   "cell_type": "markdown",
   "id": "31ae0738",
   "metadata": {},
   "source": [
    "## Single Number\n",
    "\n",
    "Given a non-empty array of integers nums, every element appears twice except for one. Find that single one.\n",
    "\n",
    "You must implement a solution with a linear runtime complexity and use only constant extra space.\n",
    "\n",
    "#### Examples:\n",
    "\n",
    "```\n",
    "Input: nums = [2,2,1]\n",
    "Output: 1\n",
    "```\n",
    "\n",
    "```\n",
    "Input: nums = [4,1,2,1,2]\n",
    "Output: 4\n",
    "```\n",
    "\n",
    "```\n",
    "Input: nums = [1]\n",
    "Output: 1\n",
    "```"
   ]
  },
  {
   "cell_type": "code",
   "execution_count": 12,
   "id": "99e5a7df",
   "metadata": {},
   "outputs": [],
   "source": [
    "def singleNumber(nums: List[int]) -> int:\n",
    "    set_nums = set()\n",
    "    for num in nums:\n",
    "        if num in set_nums:\n",
    "            set_nums.remove(num)\n",
    "        else:\n",
    "            set_nums.add(num)\n",
    "    \n",
    "    return set_nums.pop()"
   ]
  },
  {
   "cell_type": "code",
   "execution_count": 13,
   "id": "5f11f47b",
   "metadata": {},
   "outputs": [
    {
     "data": {
      "text/plain": [
       "1"
      ]
     },
     "execution_count": 13,
     "metadata": {},
     "output_type": "execute_result"
    }
   ],
   "source": [
    "nums = [2, 2, 1]\n",
    "singleNumber(nums)"
   ]
  },
  {
   "cell_type": "code",
   "execution_count": 14,
   "id": "a5c70fc0",
   "metadata": {},
   "outputs": [
    {
     "data": {
      "text/plain": [
       "4"
      ]
     },
     "execution_count": 14,
     "metadata": {},
     "output_type": "execute_result"
    }
   ],
   "source": [
    "nums = [4, 1, 2, 1, 2]\n",
    "singleNumber(nums)"
   ]
  },
  {
   "cell_type": "code",
   "execution_count": 15,
   "id": "7c24de70",
   "metadata": {},
   "outputs": [],
   "source": [
    "def singleNumber(nums: List[int]) -> int:\n",
    "    return(2*sum(set(nums))-sum(nums))"
   ]
  },
  {
   "cell_type": "code",
   "execution_count": 16,
   "id": "ca0dd62e",
   "metadata": {},
   "outputs": [
    {
     "data": {
      "text/plain": [
       "4"
      ]
     },
     "execution_count": 16,
     "metadata": {},
     "output_type": "execute_result"
    }
   ],
   "source": [
    "nums = [4, 1, 2, 1, 2]\n",
    "singleNumber(nums)"
   ]
  },
  {
   "cell_type": "code",
   "execution_count": 17,
   "id": "933abd26",
   "metadata": {},
   "outputs": [],
   "source": [
    "def singleNumber(nums: List[int]) -> int:\n",
    "    result = 0\n",
    "    for num in nums:\n",
    "        result ^= num\n",
    "    return result"
   ]
  },
  {
   "cell_type": "code",
   "execution_count": 18,
   "id": "97960928",
   "metadata": {},
   "outputs": [
    {
     "data": {
      "text/plain": [
       "4"
      ]
     },
     "execution_count": 18,
     "metadata": {},
     "output_type": "execute_result"
    }
   ],
   "source": [
    "nums = [4, 1, 2, 1, 2]\n",
    "singleNumber(nums)"
   ]
  },
  {
   "cell_type": "markdown",
   "id": "68ed6a1b",
   "metadata": {},
   "source": [
    "## Intersection of Two Arrays II\n",
    "\n",
    "Given two integer arrays nums1 and nums2, return an array of their intersection. Each element in the result must appear as many times as it shows in both arrays and you may return the result in any order.\n",
    "\n",
    "#### Examples:\n",
    "```\n",
    "Input: nums1 = [1,2,2,1], nums2 = [2,2]\n",
    "Output: [2,2]\n",
    "```\n",
    "```\n",
    "Input: nums1 = [4,9,5], nums2 = [9,4,9,8,4]\n",
    "Output: [4,9]\n",
    "Explanation: [9,4] is also accepted.\n",
    "```\n",
    "\n",
    "#### Follow up:\n",
    "\n",
    "- What if the given array is already sorted? How would you optimize your algorithm?\n",
    "- What if nums1's size is small compared to nums2's size? Which algorithm is better?\n",
    "- What if elements of nums2 are stored on disk, and the memory is limited such that you cannot load all elements into the memory at once?"
   ]
  },
  {
   "cell_type": "code",
   "execution_count": 19,
   "id": "283d7dcc",
   "metadata": {},
   "outputs": [],
   "source": [
    "def intersect(nums1: List[int], nums2: List[int]) -> List[int]:\n",
    "    nums1_dic = {}\n",
    "    result = []\n",
    "    \n",
    "    for num in nums1:\n",
    "        nums1_dic[num] = nums1_dic.get(num, 0) + 1\n",
    "    \n",
    "    for num in nums2:\n",
    "        if num in nums1_dic and nums1_dic[num] > 0:\n",
    "            nums1_dic[num] -= 1\n",
    "            result.append(num)\n",
    "    \n",
    "    return result"
   ]
  },
  {
   "cell_type": "code",
   "execution_count": 20,
   "id": "b93eeb26",
   "metadata": {},
   "outputs": [
    {
     "data": {
      "text/plain": [
       "[2, 2]"
      ]
     },
     "execution_count": 20,
     "metadata": {},
     "output_type": "execute_result"
    }
   ],
   "source": [
    "nums1 = [1, 2, 2, 1]\n",
    "nums2 = [2, 2]\n",
    "\n",
    "intersect(nums1, nums2)"
   ]
  },
  {
   "cell_type": "code",
   "execution_count": 21,
   "id": "79ed5b2c",
   "metadata": {},
   "outputs": [
    {
     "data": {
      "text/plain": [
       "[9, 4]"
      ]
     },
     "execution_count": 21,
     "metadata": {},
     "output_type": "execute_result"
    }
   ],
   "source": [
    "nums1 = [4, 9, 5]\n",
    "nums2 = [9, 4, 9, 8, 4]\n",
    "\n",
    "intersect(nums1, nums2)"
   ]
  },
  {
   "cell_type": "markdown",
   "id": "6e3d0482",
   "metadata": {},
   "source": [
    "## Plus One\n",
    "\n",
    "Given a non-empty array of decimal digits representing a non-negative integer, increment one to the integer.\n",
    "\n",
    "The digits are stored such that the most significant digit is at the head of the list, and each element in the array contains a single digit.\n",
    "\n",
    "You may assume the integer does not contain any leading zero, except the number 0 itself.\n",
    "\n",
    "#### Examples:\n",
    "```\n",
    "Input: digits = [1, 2, 3]\n",
    "Output: [1, 2, 4]\n",
    "Explanation: The array represents the integer 123.\n",
    "```\n",
    "```\n",
    "Input: digits = [4, 3, 2, 1]\n",
    "Output: [4, 3, 2, 2]\n",
    "Explanation: The array represents the integer 4321.\n",
    "```\n",
    "```\n",
    "Input: digits = [0]\n",
    "Output: [1]\n",
    "```"
   ]
  },
  {
   "cell_type": "code",
   "execution_count": 22,
   "id": "f4de4a1f",
   "metadata": {},
   "outputs": [],
   "source": [
    "def plusOne(digits: List[int]) -> List[int]:\n",
    "    ready = False\n",
    "    i = len(digits) - 1\n",
    "\n",
    "    while i >= 0:\n",
    "        if digits[i] + 1 < 10:\n",
    "            digits[i] += 1\n",
    "            ready = True\n",
    "            break\n",
    "        else:\n",
    "            digits[i] = 0\n",
    "\n",
    "        i -= 1\n",
    "\n",
    "    return digits if ready else [1, *digits]"
   ]
  },
  {
   "cell_type": "code",
   "execution_count": 23,
   "id": "62a742ef",
   "metadata": {},
   "outputs": [
    {
     "data": {
      "text/plain": [
       "[9, 9, 0]"
      ]
     },
     "execution_count": 23,
     "metadata": {},
     "output_type": "execute_result"
    }
   ],
   "source": [
    "digits = [9, 8, 9]\n",
    "\n",
    "plusOne(digits)"
   ]
  },
  {
   "cell_type": "code",
   "execution_count": 24,
   "id": "c084c142",
   "metadata": {},
   "outputs": [
    {
     "data": {
      "text/plain": [
       "[1, 0, 0, 0]"
      ]
     },
     "execution_count": 24,
     "metadata": {},
     "output_type": "execute_result"
    }
   ],
   "source": [
    "digits = [9, 9, 9]\n",
    "\n",
    "plusOne(digits)"
   ]
  },
  {
   "cell_type": "markdown",
   "id": "b158d1cd",
   "metadata": {},
   "source": [
    "## Move Zeroes\n",
    "Given an integer array nums, move all 0's to the end of it while maintaining the relative order of the non-zero elements.\n",
    "\n",
    "Note that you must do this in-place without making a copy of the array.\n",
    "\n",
    "#### Examples:\n",
    "```\n",
    "Input: nums = [0, 1, 0, 3, 12]\n",
    "Output: [1, 3, 12, 0, 0]\n",
    "```\n",
    "```\n",
    "Input: nums = [0]\n",
    "Output: [0]\n",
    "```\n",
    "\n",
    "#### Follow up:\n",
    "Could you minimize the total number of operations done?"
   ]
  },
  {
   "cell_type": "code",
   "execution_count": 25,
   "id": "480165ce",
   "metadata": {},
   "outputs": [],
   "source": [
    "def moveZeroes(nums: List[int]) -> None:\n",
    "    if len(nums) < 2:\n",
    "        return\n",
    "    \n",
    "    i = cur_i = 0\n",
    "\n",
    "    while i < len(nums):\n",
    "        if nums[i] != 0:\n",
    "            nums[cur_i] = nums[i]\n",
    "            cur_i += 1\n",
    "        \n",
    "        i += 1\n",
    "    \n",
    "    while cur_i < len(nums):\n",
    "        nums[cur_i] = 0\n",
    "        cur_i += 1"
   ]
  },
  {
   "cell_type": "code",
   "execution_count": 26,
   "id": "acace3fc",
   "metadata": {},
   "outputs": [
    {
     "data": {
      "text/plain": [
       "[1, 3, 12, 0, 0]"
      ]
     },
     "execution_count": 26,
     "metadata": {},
     "output_type": "execute_result"
    }
   ],
   "source": [
    "nums = [0, 1, 0, 3, 12]\n",
    "moveZeroes(nums)\n",
    "nums"
   ]
  },
  {
   "cell_type": "code",
   "execution_count": 27,
   "id": "393c8fac",
   "metadata": {},
   "outputs": [
    {
     "data": {
      "text/plain": [
       "[1, 0]"
      ]
     },
     "execution_count": 27,
     "metadata": {},
     "output_type": "execute_result"
    }
   ],
   "source": [
    "nums = [0, 1]\n",
    "moveZeroes(nums)\n",
    "nums"
   ]
  },
  {
   "cell_type": "code",
   "execution_count": 28,
   "id": "4a3a7cdf",
   "metadata": {},
   "outputs": [
    {
     "data": {
      "text/plain": [
       "[1, 0]"
      ]
     },
     "execution_count": 28,
     "metadata": {},
     "output_type": "execute_result"
    }
   ],
   "source": [
    "nums = [1, 0]\n",
    "moveZeroes(nums)\n",
    "nums"
   ]
  },
  {
   "cell_type": "markdown",
   "id": "d787bc2f",
   "metadata": {},
   "source": [
    "## Two Sum\n",
    "\n",
    "Given an array of integers nums and an integer target, return indices of the two numbers such that they add up to target.\n",
    "\n",
    "You may assume that each input would have exactly one solution, and you may not use the same element twice.\n",
    "\n",
    "You can return the answer in any order.\n",
    "\n",
    "#### Examples:\n",
    "```\n",
    "Input: nums = [2,7,11,15], target = 9\n",
    "Output: [0,1]\n",
    "Output: Because nums[0] + nums[1] == 9, we return [0, 1].\n",
    "```\n",
    "```\n",
    "Input: nums = [3,2,4], target = 6\n",
    "Output: [1,2]\n",
    "```\n",
    "```\n",
    "Input: nums = [3,3], target = 6\n",
    "Output: [0,1]\n",
    "```"
   ]
  },
  {
   "cell_type": "code",
   "execution_count": 29,
   "id": "ac03f79e",
   "metadata": {},
   "outputs": [],
   "source": [
    "def twoSum(nums: List[int], target: int) -> List[int]:\n",
    "    i = 0\n",
    "    nums_dict = {}\n",
    "\n",
    "    while i < len(nums):\n",
    "        s = target - nums[i]\n",
    "        if s in nums_dict and nums_dict[s] != i:\n",
    "            return [nums_dict[s], i]\n",
    "        else:\n",
    "            nums_dict[nums[i]] = i\n",
    "        i += 1\n",
    "    return []"
   ]
  },
  {
   "cell_type": "code",
   "execution_count": 30,
   "id": "1691f788",
   "metadata": {},
   "outputs": [
    {
     "data": {
      "text/plain": [
       "[0, 1]"
      ]
     },
     "execution_count": 30,
     "metadata": {},
     "output_type": "execute_result"
    }
   ],
   "source": [
    "nums = [2, 7, 11, 15]\n",
    "target = 9\n",
    "\n",
    "twoSum(nums, target)"
   ]
  },
  {
   "cell_type": "code",
   "execution_count": 31,
   "id": "3db4ae19",
   "metadata": {},
   "outputs": [
    {
     "data": {
      "text/plain": [
       "[1, 2]"
      ]
     },
     "execution_count": 31,
     "metadata": {},
     "output_type": "execute_result"
    }
   ],
   "source": [
    "nums = [3, 2, 4]\n",
    "target = 6\n",
    "\n",
    "twoSum(nums, target)"
   ]
  },
  {
   "cell_type": "code",
   "execution_count": 32,
   "id": "9da5c5c3",
   "metadata": {},
   "outputs": [
    {
     "data": {
      "text/plain": [
       "[0, 1]"
      ]
     },
     "execution_count": 32,
     "metadata": {},
     "output_type": "execute_result"
    }
   ],
   "source": [
    "nums = [3, 3]\n",
    "target = 6\n",
    "\n",
    "twoSum(nums, target)"
   ]
  },
  {
   "cell_type": "markdown",
   "id": "b4ed3eca",
   "metadata": {},
   "source": [
    "## Valid Sudoku\n",
    "\n",
    "Determine if a 9 x 9 Sudoku board is valid. Only the filled cells need to be validated according to the following rules:\n",
    "- Each row must contain the digits 1-9 without repetition.\n",
    "- Each column must contain the digits 1-9 without repetition.\n",
    "- Each of the nine 3 x 3 sub-boxes of the grid must contain the digits 1-9 without repetition.\n",
    "\n",
    "Note:\n",
    "- A Sudoku board (partially filled) could be valid but is not necessarily solvable.\n",
    "- Only the filled cells need to be validated according to the mentioned rules.\n",
    "\n",
    "#### Example 1:\n",
    "\n",
    "![sudoku](./img/sudoku.png)\n",
    "\n",
    "```\n",
    "Input: board = \n",
    "[[\"5\",\"3\",\".\",\".\",\"7\",\".\",\".\",\".\",\".\"]\n",
    ",[\"6\",\".\",\".\",\"1\",\"9\",\"5\",\".\",\".\",\".\"]\n",
    ",[\".\",\"9\",\"8\",\".\",\".\",\".\",\".\",\"6\",\".\"]\n",
    ",[\"8\",\".\",\".\",\".\",\"6\",\".\",\".\",\".\",\"3\"]\n",
    ",[\"4\",\".\",\".\",\"8\",\".\",\"3\",\".\",\".\",\"1\"]\n",
    ",[\"7\",\".\",\".\",\".\",\"2\",\".\",\".\",\".\",\"6\"]\n",
    ",[\".\",\"6\",\".\",\".\",\".\",\".\",\"2\",\"8\",\".\"]\n",
    ",[\".\",\".\",\".\",\"4\",\"1\",\"9\",\".\",\".\",\"5\"]\n",
    ",[\".\",\".\",\".\",\".\",\"8\",\".\",\".\",\"7\",\"9\"]]\n",
    "Output: true\n",
    "```\n",
    "\n",
    "#### Example 2:\n",
    "```\n",
    "Input: board = \n",
    "[[\"8\",\"3\",\".\",\".\",\"7\",\".\",\".\",\".\",\".\"]\n",
    ",[\"6\",\".\",\".\",\"1\",\"9\",\"5\",\".\",\".\",\".\"]\n",
    ",[\".\",\"9\",\"8\",\".\",\".\",\".\",\".\",\"6\",\".\"]\n",
    ",[\"8\",\".\",\".\",\".\",\"6\",\".\",\".\",\".\",\"3\"]\n",
    ",[\"4\",\".\",\".\",\"8\",\".\",\"3\",\".\",\".\",\"1\"]\n",
    ",[\"7\",\".\",\".\",\".\",\"2\",\".\",\".\",\".\",\"6\"]\n",
    ",[\".\",\"6\",\".\",\".\",\".\",\".\",\"2\",\"8\",\".\"]\n",
    ",[\".\",\".\",\".\",\"4\",\"1\",\"9\",\".\",\".\",\"5\"]\n",
    ",[\".\",\".\",\".\",\".\",\"8\",\".\",\".\",\"7\",\"9\"]]\n",
    "Output: false\n",
    "Explanation: Same as Example 1, except with the 5 in the top left corner being modified to 8. Since there are two 8's in the top left 3x3 sub-box, it is invalid.\n",
    "```"
   ]
  },
  {
   "cell_type": "code",
   "execution_count": 33,
   "id": "f4094eb9",
   "metadata": {},
   "outputs": [],
   "source": [
    "def isValidSudoku(board: List[List[str]]) -> bool:\n",
    "    for i in range(0, 9):\n",
    "        row = set()\n",
    "        col = set()\n",
    "        table = set()\n",
    "\n",
    "        for j in range(0, 9):\n",
    "            # lines\n",
    "            if board[i][j] != '.':\n",
    "                if board[i][j] in row:\n",
    "                    return False\n",
    "                else:\n",
    "                    row.add(board[i][j])\n",
    "            # cols\n",
    "            if board[j][i] != '.':\n",
    "                if board[j][i] in col:\n",
    "                    return False\n",
    "                else:\n",
    "                    col.add(board[j][i])\n",
    "\n",
    "            # table\n",
    "            r, c = j//3 + i//3*3, (i*3 + j % 3) % 9\n",
    "            if board[r][c] != '.':\n",
    "                if board[r][c] in table:\n",
    "                    return False\n",
    "                else:\n",
    "                    table.add(board[r][c])\n",
    "\n",
    "    return True"
   ]
  },
  {
   "cell_type": "code",
   "execution_count": 34,
   "id": "074faa6c",
   "metadata": {},
   "outputs": [
    {
     "data": {
      "text/plain": [
       "False"
      ]
     },
     "execution_count": 34,
     "metadata": {},
     "output_type": "execute_result"
    }
   ],
   "source": [
    "board = [\n",
    "    [\".\", \".\", \".\", \".\", \"5\", \".\", \".\", \"1\", \".\"],\n",
    "    [\".\", \"4\", \".\", \"3\", \".\", \".\", \".\", \".\", \".\"],\n",
    "    [\".\", \".\", \".\", \".\", \".\", \"3\", \".\", \".\", \"1\"],\n",
    "    [\"8\", \".\", \".\", \".\", \".\", \".\", \".\", \"2\", \".\"],\n",
    "    [\".\", \".\", \"2\", \".\", \"7\", \".\", \".\", \".\", \".\"],\n",
    "    [\".\", \"1\", \"5\", \".\", \".\", \".\", \".\", \".\", \".\"],\n",
    "    [\".\", \".\", \".\", \".\", \".\", \"2\", \".\", \".\", \".\"],\n",
    "    [\".\", \"2\", \".\", \"9\", \".\", \".\", \".\", \".\", \".\"],\n",
    "    [\".\", \".\", \"4\", \".\", \".\", \".\", \".\", \".\", \".\"]\n",
    "]\n",
    "\n",
    "isValidSudoku(board)"
   ]
  },
  {
   "cell_type": "code",
   "execution_count": 35,
   "id": "96d1fef8",
   "metadata": {},
   "outputs": [
    {
     "data": {
      "text/plain": [
       "True"
      ]
     },
     "execution_count": 35,
     "metadata": {},
     "output_type": "execute_result"
    }
   ],
   "source": [
    "board = [\n",
    "    [\"5\", \"3\", \".\", \".\", \"7\", \".\", \".\", \".\", \".\"],\n",
    "    [\"6\", \".\", \".\", \"1\", \"9\", \"5\", \".\", \".\", \".\"],\n",
    "    [\".\", \"9\", \"8\", \".\", \".\", \".\", \".\", \"6\", \".\"],\n",
    "    [\"8\", \".\", \".\", \".\", \"6\", \".\", \".\", \".\", \"3\"],\n",
    "    [\"4\", \".\", \".\", \"8\", \".\", \"3\", \".\", \".\", \"1\"],\n",
    "    [\"7\", \".\", \".\", \".\", \"2\", \".\", \".\", \".\", \"6\"],\n",
    "    [\".\", \"6\", \".\", \".\", \".\", \".\", \"2\", \"8\", \".\"],\n",
    "    [\".\", \".\", \".\", \"4\", \"1\", \"9\", \".\", \".\", \"5\"],\n",
    "    [\".\", \".\", \".\", \".\", \"8\", \".\", \".\", \"7\", \"9\"],\n",
    "]\n",
    "\n",
    "isValidSudoku(board)"
   ]
  },
  {
   "cell_type": "code",
   "execution_count": 36,
   "id": "1f8a105e",
   "metadata": {},
   "outputs": [
    {
     "data": {
      "text/plain": [
       "False"
      ]
     },
     "execution_count": 36,
     "metadata": {},
     "output_type": "execute_result"
    }
   ],
   "source": [
    "board = [\n",
    "    [\"8\", \"3\", \".\", \".\", \"7\", \".\", \".\", \".\", \".\"],\n",
    "    [\"6\", \".\", \".\", \"1\", \"9\", \"5\", \".\", \".\", \".\"],\n",
    "    [\".\", \"9\", \"8\", \".\", \".\", \".\", \".\", \"6\", \".\"],\n",
    "    [\"8\", \".\", \".\", \".\", \"6\", \".\", \".\", \".\", \"3\"],\n",
    "    [\"4\", \".\", \".\", \"8\", \".\", \"3\", \".\", \".\", \"1\"],\n",
    "    [\"7\", \".\", \".\", \".\", \"2\", \".\", \".\", \".\", \"6\"],\n",
    "    [\".\", \"6\", \".\", \".\", \".\", \".\", \"2\", \"8\", \".\"],\n",
    "    [\".\", \".\", \".\", \"4\", \"1\", \"9\", \".\", \".\", \"5\"],\n",
    "    [\".\", \".\", \".\", \".\", \"8\", \".\", \".\", \"7\", \"9\"]\n",
    "]\n",
    "\n",
    "isValidSudoku(board)"
   ]
  },
  {
   "cell_type": "code",
   "execution_count": null,
   "id": "4f42e580",
   "metadata": {},
   "outputs": [],
   "source": []
  }
 ],
 "metadata": {
  "kernelspec": {
   "display_name": "Python 3",
   "language": "python",
   "name": "python3"
  },
  "language_info": {
   "codemirror_mode": {
    "name": "ipython",
    "version": 3
   },
   "file_extension": ".py",
   "mimetype": "text/x-python",
   "name": "python",
   "nbconvert_exporter": "python",
   "pygments_lexer": "ipython3",
   "version": "3.8.5"
  }
 },
 "nbformat": 4,
 "nbformat_minor": 5
}
