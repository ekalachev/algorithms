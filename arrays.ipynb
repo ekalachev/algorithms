{
 "cells": [
  {
   "cell_type": "markdown",
   "id": "18b273fe",
   "metadata": {},
   "source": [
    "# Arrays"
   ]
  },
  {
   "cell_type": "code",
   "execution_count": 2,
   "id": "c1ae8807",
   "metadata": {},
   "outputs": [],
   "source": [
    "from typing import List"
   ]
  },
  {
   "cell_type": "markdown",
   "id": "b50e2557",
   "metadata": {},
   "source": [
    "## Remove Duplicates from Sorted Array\n",
    "\n",
    "Given a sorted array nums, remove the duplicates in-place such that each element appears only once and returns the new length.\n",
    "\n",
    "Do not allocate extra space for another array, you must do this by modifying the input array in-place with O(1) extra memory.\n",
    "\n",
    "Clarification:\n",
    "\n",
    "Confused why the returned value is an integer but your answer is an array?\n",
    "\n",
    "Note that the input array is passed in by reference, which means a modification to the input array will be known to the caller as well.\n",
    "\n",
    "#### Examples:\n",
    "```\n",
    "Input: nums = [1,1,2]\n",
    "Output: 2, nums = [1,2]\n",
    "Explanation: Your function should return length = 2, with the first two elements of nums being 1 and 2 respectively. It doesn't matter what you leave beyond the returned length.\n",
    "```\n",
    "\n",
    "```\n",
    "Input: nums = [0,0,1,1,1,2,2,3,3,4]\n",
    "Output: 5, nums = [0,1,2,3,4]\n",
    "Explanation: Your function should return length = 5, with the first five elements of nums being modified to 0, 1, 2, 3, and 4 respectively. It doesn't matter what values are set beyond the returned length.\n",
    "```"
   ]
  },
  {
   "cell_type": "code",
   "execution_count": 5,
   "id": "fe0ff107",
   "metadata": {},
   "outputs": [],
   "source": [
    "def removeDuplicates(nums: List[int]) -> int:\n",
    "    if len(nums) == 0:\n",
    "        return 0\n",
    "\n",
    "    cur = 0\n",
    "    cur_val = nums[cur]\n",
    "\n",
    "    for i in range(0, len(nums)):\n",
    "        if cur_val != nums[i]:\n",
    "            cur += 1\n",
    "            nums[cur] = nums[i]\n",
    "            cur_val = nums[i]\n",
    "\n",
    "    return cur + 1"
   ]
  },
  {
   "cell_type": "code",
   "execution_count": 6,
   "id": "19b14ff8",
   "metadata": {},
   "outputs": [
    {
     "name": "stdout",
     "output_type": "stream",
     "text": [
      "[0, 1, 2, 3, 4]\n"
     ]
    }
   ],
   "source": [
    "nums = [0, 0, 1, 1, 1, 2, 2, 3, 3, 4]\n",
    "length = removeDuplicates(nums)\n",
    "print(nums[:length])"
   ]
  },
  {
   "cell_type": "markdown",
   "id": "626d43ea",
   "metadata": {},
   "source": [
    "## Best Time to Buy and Sell Stock II\n",
    "\n",
    "You are given an array prices where prices[i] is the price of a given stock on the ith day.\n",
    "\n",
    "Find the maximum profit you can achieve. You may complete as many transactions as you like (i.e., buy one and sell one share of the stock multiple times).\n",
    "\n",
    "Note: You may not engage in multiple transactions simultaneously (i.e., you must sell the stock before you buy again).\n",
    "\n",
    "#### Examples:\n",
    "\n",
    "```\n",
    "Input: prices = [7,1,5,3,6,4]\n",
    "Output: 7\n",
    "Explanation: Buy on day 2 (price = 1) and sell on day 3 (price = 5), profit = 5-1 = 4.\n",
    "Then buy on day 4 (price = 3) and sell on day 5 (price = 6), profit = 6-3 = 3.\n",
    "```\n",
    "\n",
    "```\n",
    "Input: prices = [1,2,3,4,5]\n",
    "Output: 4\n",
    "Explanation: Buy on day 1 (price = 1) and sell on day 5 (price = 5), profit = 5-1 = 4.\n",
    "Note that you cannot buy on day 1, buy on day 2 and sell them later, as you are engaging multiple transactions at the same time. You must sell before buying again.\n",
    "```"
   ]
  },
  {
   "cell_type": "code",
   "execution_count": 7,
   "id": "c8a9b3ba",
   "metadata": {},
   "outputs": [],
   "source": [
    "def maxProfit(prices: List[int]) -> int:\n",
    "    profit = 0\n",
    "    prev = float('inf')\n",
    "\n",
    "    for cur in prices:\n",
    "        if prev < cur:\n",
    "            profit += cur - prev\n",
    "        prev = cur\n",
    "\n",
    "    return profit"
   ]
  },
  {
   "cell_type": "code",
   "execution_count": 9,
   "id": "4ef908b8",
   "metadata": {},
   "outputs": [
    {
     "name": "stdout",
     "output_type": "stream",
     "text": [
      "7\n"
     ]
    }
   ],
   "source": [
    "nums = [7, 1, 5, 3, 6, 4]\n",
    "profit = maxProfit(nums)\n",
    "print(profit)"
   ]
  },
  {
   "cell_type": "code",
   "execution_count": null,
   "id": "4cb03a03",
   "metadata": {},
   "outputs": [],
   "source": []
  }
 ],
 "metadata": {
  "kernelspec": {
   "display_name": "Python 3",
   "language": "python",
   "name": "python3"
  },
  "language_info": {
   "codemirror_mode": {
    "name": "ipython",
    "version": 3
   },
   "file_extension": ".py",
   "mimetype": "text/x-python",
   "name": "python",
   "nbconvert_exporter": "python",
   "pygments_lexer": "ipython3",
   "version": "3.8.5"
  }
 },
 "nbformat": 4,
 "nbformat_minor": 5
}
